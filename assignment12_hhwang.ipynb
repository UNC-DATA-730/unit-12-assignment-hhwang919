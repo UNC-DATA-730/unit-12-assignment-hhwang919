{
 "cells": [
  {
   "cell_type": "markdown",
   "id": "6ccee0a4-a84e-4d9c-852f-6181304636a8",
   "metadata": {},
   "source": [
    "Load the `ISLR2` and `tidyverse` packages."
   ]
  },
  {
   "cell_type": "code",
   "execution_count": null,
   "id": "bd2f144e-0f63-4fd0-8bbf-ea6d12441682",
   "metadata": {
    "tags": []
   },
   "outputs": [
    {
     "name": "stderr",
     "output_type": "stream",
     "text": [
      "── \u001b[1mAttaching core tidyverse packages\u001b[22m ──────────────────────── tidyverse 2.0.0 ──\n",
      "\u001b[32m✔\u001b[39m \u001b[34mdplyr    \u001b[39m 1.1.4     \u001b[32m✔\u001b[39m \u001b[34mreadr    \u001b[39m 2.1.5\n",
      "\u001b[32m✔\u001b[39m \u001b[34mforcats  \u001b[39m 1.0.0     \u001b[32m✔\u001b[39m \u001b[34mstringr  \u001b[39m 1.5.1\n",
      "\u001b[32m✔\u001b[39m \u001b[34mggplot2  \u001b[39m 3.5.1     \u001b[32m✔\u001b[39m \u001b[34mtibble   \u001b[39m 3.2.1\n",
      "\u001b[32m✔\u001b[39m \u001b[34mlubridate\u001b[39m 1.9.3     \u001b[32m✔\u001b[39m \u001b[34mtidyr    \u001b[39m 1.3.1\n",
      "\u001b[32m✔\u001b[39m \u001b[34mpurrr    \u001b[39m 1.0.2     \n",
      "── \u001b[1mConflicts\u001b[22m ────────────────────────────────────────── tidyverse_conflicts() ──\n",
      "\u001b[31m✖\u001b[39m \u001b[34mdplyr\u001b[39m::\u001b[32mfilter()\u001b[39m masks \u001b[34mstats\u001b[39m::filter()\n",
      "\u001b[31m✖\u001b[39m \u001b[34mdplyr\u001b[39m::\u001b[32mlag()\u001b[39m    masks \u001b[34mstats\u001b[39m::lag()\n",
      "\u001b[36mℹ\u001b[39m Use the conflicted package (\u001b[3m\u001b[34m<http://conflicted.r-lib.org/>\u001b[39m\u001b[23m) to force all conflicts to become errors\n"
     ]
    }
   ],
   "source": [
    "library('tidyverse')\n",
    "library('ISLR2')\n",
    "library('recipes')\n",
    "library('parsnip')\n",
    "\n"
   ]
  },
  {
   "cell_type": "markdown",
   "id": "da581705-7efd-4601-9c62-164f18eeffa9",
   "metadata": {},
   "source": [
    "`glimpse` the `Auto` dataset (this comes from the `ISLR2` package)."
   ]
  },
  {
   "cell_type": "code",
   "execution_count": null,
   "id": "2da8b434-17f0-431d-8249-f8732185317a",
   "metadata": {
    "tags": []
   },
   "outputs": [],
   "source": [
    "\n",
    "glimpse(Auto)\n"
   ]
  },
  {
   "cell_type": "markdown",
   "id": "0475af12-8f3a-4514-ad61-ee34c3854dd2",
   "metadata": {},
   "source": [
    "Plot `mpg`  as a function of `displacement`."
   ]
  },
  {
   "cell_type": "code",
   "execution_count": null,
   "id": "dcdc21aa-3da6-464d-8685-0141cd1bba93",
   "metadata": {
    "tags": []
   },
   "outputs": [],
   "source": [
    "\n",
    "ggplot(Auto, aes(x = displacement, y = mpg)) +\n",
    "geom_point() +\n",
    " labs(\n",
    "    title = \"MPG vs. Engine Displacement\",\n",
    "    x = \"Engine Displacement\",\n",
    "    y = \"MPG\"\n",
    "  ) +\n",
    "  theme_minimal()\n"
   ]
  },
  {
   "cell_type": "markdown",
   "id": "4b63365e-aa0a-47d7-b93f-0f97436b270b",
   "metadata": {},
   "source": [
    "❓Does the relationship of `mpg` to `displacement` look linear?"
   ]
  },
  {
   "cell_type": "markdown",
   "id": "ee12a074-c1b6-4f29-a40d-fea9b4746582",
   "metadata": {},
   "source": [
    "\n",
    "No\n"
   ]
  },
  {
   "cell_type": "markdown",
   "id": "ba320947-154e-4958-acde-b2b582e737b1",
   "metadata": {},
   "source": [
    "Model `mpg` as a function of `displacement` and `cylinders`. \n",
    "\n",
    "- Transform the `displacement` variable using a `spline` or `polynomial` transform. (Hint: use `step_ns` or `step_poly`).\n",
    "- Combine `step_mutate(cyl_cat = factor(cylinders))` followed by `step_dummy(cyl_cat)` and `step_rm(cylinders)` to convert `cylinders` to categorical data for the model.\n",
    "\n",
    "Assuming you name your fitted model `mod_fit` the code below can be used to visualize your model:\n",
    "\n",
    "```r\n",
    "predict(mod_fit, rec |> juice()) |>\n",
    "    bind_cols(Auto) |>\n",
    "ggplot(aes(x = displacement, y = mpg)) +\n",
    "    geom_point(size = 1, alpha = 0.35) +\n",
    "    geom_line(aes(y = .pred, color = factor(cylinders)), linewidth = 1)\n",
    "```\n",
    "\n",
    "**Create and visualize your model below...**"
   ]
  },
  {
   "cell_type": "code",
   "execution_count": null,
   "id": "1821b4e9-0f37-445a-9ffe-7c9064795510",
   "metadata": {
    "tags": []
   },
   "outputs": [],
   "source": [
    "rec <- recipe(mpg ~ displacement + cylinders, data = Auto) |>\n",
    "    step_ns(displacement, deg_free = 5) |>\n",
    "    step_mutate(cyl_cat = factor(cylinders)) |>\n",
    "    step_dummy(cyl_cat) |>\n",
    "    step_rm(cylinders) |>\n",
    "    prep()\n"
   ]
  },
  {
   "cell_type": "code",
   "execution_count": null,
   "id": "959f1f36-2a35-45a5-ad18-ba3b168615e3",
   "metadata": {
    "tags": []
   },
   "outputs": [],
   "source": [
    "mod <- linear_reg() |>\n",
    "    set_engine('lm')\n",
    "\n",
    "\n",
    "mod_fit = mod |> fit(mpg ~ ., data = rec |> juice()) "
   ]
  },
  {
   "cell_type": "code",
   "execution_count": null,
   "id": "c9d5d5f6-1da3-48d0-b3c1-3cba36f45e7f",
   "metadata": {
    "tags": []
   },
   "outputs": [],
   "source": [
    "predict(mod_fit, rec |> juice()) |>\n",
    "    bind_cols(Auto) |>\n",
    "ggplot(aes(x = displacement, y = mpg)) +\n",
    "    geom_point(size = 1, alpha = 0.35) +\n",
    "    geom_line(aes(y = .pred, color = factor(cylinders)), linewidth = 1) +\n",
    "  labs(\n",
    "    title = \"Actual vs Predicted\",\n",
    "    x = \"Engine Displacement\",\n",
    "    y = \"MPG\",\n",
    "    color = \"Number of Cylinders\"\n",
    "  ) +\n",
    "  theme_minimal()"
   ]
  }
 ],
 "metadata": {
  "kernelspec": {
   "display_name": "data730:R",
   "language": "R",
   "name": "conda-env-data730-r"
  },
  "language_info": {
   "codemirror_mode": "r",
   "file_extension": ".r",
   "mimetype": "text/x-r-source",
   "name": "R",
   "pygments_lexer": "r",
   "version": "4.3.3"
  }
 },
 "nbformat": 4,
 "nbformat_minor": 5
}
